{
  "cells": [
    {
      "cell_type": "markdown",
      "source": [
        "# DX 602 Week 3 Homework\n",
        "\n"
      ],
      "metadata": {
        "id": "cQjA5l-aQO1a"
      }
    },
    {
      "cell_type": "markdown",
      "source": [
        "## Introduction\n",
        "\n",
        "Practice is a large part of becoming fluent in a programming language.\n",
        "In this module, you will be assigned regular coding homework to practice Python.\n",
        "If these problems seem too easy to you, try to answer them faster, and make sure to check the auto-grader feedback to confirm the correctness of your answers.\n",
        "Like with spoken languages, fluency (speed) is highly correlated with proficiency.\n",
        "But it is important to answer the problems correctly first, then quickly.\n"
      ],
      "metadata": {
        "id": "426pIj7sCauy"
      }
    },
    {
      "cell_type": "markdown",
      "source": [
        "## Instructions\n",
        "\n",
        "You should replace every instance of \"...\" below.\n",
        "These are where you are expected to write code to answer each problem.\n",
        "\n",
        "After some of the problems, there are extra code cells that will test functions that you wrote so you can quickly see how they run on an example.\n",
        "If your code works on these examples, it is more likely to be correct.\n",
        "However, the autograder will test different examples, so working correctly on these examples does not guarantee full credit for the problem.\n",
        "You may change the example inputs to further test your functions on your own.\n",
        "You may also add your own example inputs for problems where we did not provide any.\n",
        "\n",
        "Be sure to run each code block after you edit it to make sure it runs as expected.\n",
        "When you are done, we strongly recommend you run all the code from scratch (Runtime menu -> Restart and Run all) to make sure your current code works for all problems.\n",
        "\n",
        "If your code raises an exception when run from scratch, it will  interfere with the auto-grader process causing you to lose some or all points for this homework.\n",
        "Please ask for help in YellowDig or schedule an appointment with a learning facilitator if you get stuck.\n"
      ],
      "metadata": {
        "id": "JMMX812EfHcI"
      }
    },
    {
      "cell_type": "markdown",
      "source": [
        "### Submission\n",
        "\n",
        "To submit your homework, take the following steps.\n",
        "\n",
        "1. Save and commit this notebook.\n",
        "2. Push your changes to GitHub.\n",
        "3. Confirm that your changes are visible in GitHub.\n",
        "4. Delete the codespace to avoid wasting your free quota.\n",
        "\n",
        "The auto-grading process usually completes within a few minutes of pushing to GitHub, but occasionally can take several minutes to an hour.\n",
        "If you submit your homework early enough, you may review the auto-grading results and fix any mistakes before the deadline.\n"
      ],
      "metadata": {
        "id": "7EmhdQLqCdxV"
      }
    },
    {
      "cell_type": "markdown",
      "source": [
        "## Problems"
      ],
      "metadata": {
        "id": "RDf9OknvCjF8"
      }
    },
    {
      "cell_type": "markdown",
      "source": [
        "### Problem 1\n",
        "\n",
        "Write a function `p1` that takes in a sequence and returns a list of the values that are not `None`."
      ],
      "metadata": {
        "id": "IZ0W-QBMnLBV"
      }
    },
    {
      "cell_type": "code",
      "execution_count": 3,
      "source": [
        "# YOUR CHANGES HERE\n",
        "\n",
        "def p1(seq):\n",
        "    return list(filter(lambda x: x is not None, seq))"
      ],
      "outputs": [],
      "metadata": {
        "id": "teDxcSlJnS34"
      }
    },
    {
      "cell_type": "markdown",
      "source": [
        "Test `p1` yourself with this example.\n",
        "Feel free to change the input to further test your function.\n",
        "\n"
      ],
      "metadata": {
        "id": "FaLIUkOXqH0M"
      }
    },
    {
      "cell_type": "code",
      "execution_count": 4,
      "source": [
        "p1([0, 1, 2, None, 4, \"a\", \"b\"])"
      ],
      "outputs": [
        {
          "output_type": "execute_result",
          "data": {
            "text/plain": [
              "[0, 1, 2, 4, 'a', 'b']"
            ]
          },
          "metadata": {},
          "execution_count": 4
        }
      ],
      "metadata": {
        "id": "1jZXBLhmns--"
      }
    },
    {
      "cell_type": "markdown",
      "source": [
        "### Problem 2\n",
        "\n",
        "Write a function `p2` that takes in a sequence and returns a list of the values that are considered true by Python."
      ],
      "metadata": {
        "id": "t9nQxQ06nVCI"
      }
    },
    {
      "cell_type": "code",
      "execution_count": 86,
      "source": [
        "# YOUR CHANGES HERE\n",
        "\n",
        "def p2(seq):\n",
        "        return list(filter(lambda x: x, seq))"
      ],
      "outputs": [],
      "metadata": {
        "id": "90vL5z5XnigG"
      }
    },
    {
      "cell_type": "markdown",
      "source": [
        "Test `p2` yourself with this example.\n",
        "Feel free to change the input to further test your function.\n",
        "\n"
      ],
      "metadata": {
        "id": "TfQqbBupp7WC"
      }
    },
    {
      "cell_type": "code",
      "execution_count": 88,
      "source": [
        "p2([0, 1, 2, None, 4, \"a\", \"b\", False, True])"
      ],
      "outputs": [
        {
          "output_type": "execute_result",
          "data": {
            "text/plain": [
              "[1, 2, 4, 'a', 'b', True]"
            ]
          },
          "metadata": {},
          "execution_count": 88
        }
      ],
      "metadata": {
        "id": "yCOW3O09oHV5"
      }
    },
    {
      "cell_type": "markdown",
      "source": [
        "### Problem 3\n",
        "\n",
        "Write a function `p3` that takes in a sequence, and returns a list of the values that are both not `None` and considered false by Python."
      ],
      "metadata": {
        "id": "9UcDWOzDnpi3"
      }
    },
    {
      "cell_type": "code",
      "execution_count": 89,
      "source": [
        "# YOUR CHANGES HERE\n",
        "\n",
        "def p3(seq):\n",
        "    def is_not_none(x):\n",
        "        return x is not None\n",
        "    def is_falsey(x):\n",
        "        return not x\n",
        "\n",
        "    return list(filter(lambda x: is_not_none(x) and is_falsey(x), seq))"
      ],
      "outputs": [],
      "metadata": {
        "id": "xTB_tXMTobVs"
      }
    },
    {
      "cell_type": "markdown",
      "source": [
        "Test `p3` yourself with this example.\n",
        "Feel free to change the input to further test your function."
      ],
      "metadata": {
        "id": "TneAPd0Bpxmy"
      }
    },
    {
      "cell_type": "code",
      "execution_count": 90,
      "source": [
        "p3([0, 1, 2, None, 4, \"a\", \"b\", False, True])"
      ],
      "outputs": [
        {
          "output_type": "execute_result",
          "data": {
            "text/plain": [
              "[0, False]"
            ]
          },
          "metadata": {},
          "execution_count": 90
        }
      ],
      "metadata": {
        "id": "tWHqPjrXofNi"
      }
    },
    {
      "cell_type": "markdown",
      "source": [
        "### Problem 4\n",
        "\n",
        "Write a function `p4` that takes in input $n$ and returns the sum from zero through $n-1$ (inclusive).\n",
        "There is a closed form solution to these sums, but please calculate the sum directly."
      ],
      "metadata": {
        "id": "_2YZZEOSCliv"
      }
    },
    {
      "cell_type": "code",
      "execution_count": 23,
      "source": [
        "# YOUR CHANGES HERE\n",
        "\n",
        "def p4(n):\n",
        "    return sum([i for i in range(n)])"
      ],
      "outputs": [],
      "metadata": {
        "id": "Mhy3u6QKDBWJ"
      }
    },
    {
      "cell_type": "markdown",
      "source": [
        "Test your code with the following examples.\n",
        "Feel free to change the inputs to further test your function."
      ],
      "metadata": {
        "id": "cIa4pQTKo9Zt"
      }
    },
    {
      "cell_type": "code",
      "execution_count": 24,
      "source": [
        "# p4(0) should be 0\n",
        "p4(0)"
      ],
      "outputs": [
        {
          "output_type": "execute_result",
          "data": {
            "text/plain": [
              "0"
            ]
          },
          "metadata": {},
          "execution_count": 24
        }
      ],
      "metadata": {
        "id": "xAHEoxzuoqyO"
      }
    },
    {
      "cell_type": "code",
      "execution_count": 25,
      "source": [
        "# p4(1) should also be 0\n",
        "p4(1)"
      ],
      "outputs": [
        {
          "output_type": "execute_result",
          "data": {
            "text/plain": [
              "0"
            ]
          },
          "metadata": {},
          "execution_count": 25
        }
      ],
      "metadata": {
        "id": "A-5b6g57osqv"
      }
    },
    {
      "cell_type": "code",
      "execution_count": 26,
      "source": [
        "# p4(2) should be 0+1=1\n",
        "p4(2)"
      ],
      "outputs": [
        {
          "output_type": "execute_result",
          "data": {
            "text/plain": [
              "1"
            ]
          },
          "metadata": {},
          "execution_count": 26
        }
      ],
      "metadata": {
        "id": "m9TS13UsotoN"
      }
    },
    {
      "cell_type": "code",
      "execution_count": 27,
      "source": [
        "# p4(10) should be 0+1+2+3+4+5+6+7+8+9=45\n",
        "p4(10)"
      ],
      "outputs": [
        {
          "output_type": "execute_result",
          "data": {
            "text/plain": [
              "45"
            ]
          },
          "metadata": {},
          "execution_count": 27
        }
      ],
      "metadata": {
        "id": "-uoB3IAKoutu"
      }
    },
    {
      "cell_type": "markdown",
      "source": [
        "### Problem 5\n",
        "\n",
        "Write a function `p5` that takes in input $n$ and returns the sum for integer $k$ from zero through $n-1$ (inclusive) except when $k$ is a multiple of five."
      ],
      "metadata": {
        "id": "baTz4pVWDC9U"
      }
    },
    {
      "cell_type": "code",
      "execution_count": 28,
      "source": [
        "# YOUR CHANGES HERE\n",
        "\n",
        "def p5(n):\n",
        "    return sum([i for i in range(n) if i % 5 != 0])"
      ],
      "outputs": [],
      "metadata": {
        "id": "1-JbJbiNDPgN"
      }
    },
    {
      "cell_type": "markdown",
      "source": [
        "Test your code with the following examples.\n",
        "Feel free to change the inputs to further test your function."
      ],
      "metadata": {
        "id": "VB0OTXs1rjgP"
      }
    },
    {
      "cell_type": "code",
      "execution_count": 29,
      "source": [
        "# p5(0) should be 0\n",
        "p5(0)"
      ],
      "outputs": [
        {
          "output_type": "execute_result",
          "data": {
            "text/plain": [
              "0"
            ]
          },
          "metadata": {},
          "execution_count": 29
        }
      ],
      "metadata": {
        "id": "-nZbMHZ7rkwo"
      }
    },
    {
      "cell_type": "code",
      "execution_count": 30,
      "source": [
        "# p5(6) should be 1+2+3+4=10 (note 5 skipped)\n",
        "p5(6)"
      ],
      "outputs": [
        {
          "output_type": "execute_result",
          "data": {
            "text/plain": [
              "10"
            ]
          },
          "metadata": {},
          "execution_count": 30
        }
      ],
      "metadata": {
        "id": "8d-NwdpArqCI"
      }
    },
    {
      "cell_type": "markdown",
      "source": [
        "### Problem 6\n",
        "\n",
        "Write a function `p6` that takes in a list of dictionaries, and returns the dictionary with the highest \"score\" key."
      ],
      "metadata": {
        "id": "DHuDHuO6DUgr"
      }
    },
    {
      "cell_type": "code",
      "execution_count": 31,
      "source": [
        "# YOUR CHANGES HERE\n",
        "\n",
        "def p6(dictionaries):\n",
        "    # iterate over list, checking scores, return the max. or you can sort and return last element\n",
        "    max_index = -1\n",
        "    max_score = -1\n",
        "    for i, item in enumerate(dictionaries):\n",
        "        if item[\"score\"] > max_score:\n",
        "            max_score = item[\"score\"]\n",
        "            max_index = i\n",
        "    return dictionaries[max_index]"
      ],
      "outputs": [],
      "metadata": {
        "id": "uWTJJBu2Dapd"
      }
    },
    {
      "cell_type": "markdown",
      "source": [
        "Test your code with the following example.\n",
        "Feel free to change the inputs to further test your function."
      ],
      "metadata": {
        "id": "c_Umxb6jsBCT"
      }
    },
    {
      "cell_type": "code",
      "execution_count": 32,
      "source": [
        "p6([{\"score\": 1},\n",
        "    {\"score\": 13.1},\n",
        "    {\"score\": 9}])"
      ],
      "outputs": [
        {
          "output_type": "execute_result",
          "data": {
            "text/plain": [
              "{'score': 13.1}"
            ]
          },
          "metadata": {},
          "execution_count": 32
        }
      ],
      "metadata": {
        "id": "6rvuO-6UsAo1"
      }
    },
    {
      "cell_type": "markdown",
      "source": [
        "### Problem 7\n",
        "\n",
        "The list `p7` contains dictionaries with keys \"a\", \"b\", and \"c\".\n",
        "Sort `p7` by the value of the \"c\" key."
      ],
      "metadata": {
        "id": "PEhlpGyAmA6C"
      }
    },
    {
      "cell_type": "code",
      "execution_count": 33,
      "source": [
        "# do not change this initialization\n",
        "p7 = [{\"a\": 1, \"b\": 52, \"c\": 513},\n",
        "      {\"a\": 2, \"b\": 52, \"c\": 123},\n",
        "      {\"a\": 3, \"b\": 52, \"c\": 999},\n",
        "      {\"a\": 4, \"b\": 52, \"c\": 456},\n",
        "      {\"a\": 5, \"b\": 52, \"c\": 321}]"
      ],
      "outputs": [],
      "metadata": {
        "id": "3Sp5OQEImUN_"
      }
    },
    {
      "cell_type": "code",
      "execution_count": 35,
      "source": [
        "# YOUR CHANGES HERE\n",
        "\n",
        "# sort p7 here\n",
        "p7.sort(key=lambda item: item[\"c\"])"
      ],
      "outputs": [],
      "metadata": {
        "id": "Rle-GnKwmoFV"
      }
    },
    {
      "cell_type": "markdown",
      "source": [
        "Check the final value of `p7`."
      ],
      "metadata": {
        "id": "CfEmFg6WsZIM"
      }
    },
    {
      "cell_type": "code",
      "execution_count": 36,
      "source": [
        "p7"
      ],
      "outputs": [
        {
          "output_type": "execute_result",
          "data": {
            "text/plain": [
              "[{'a': 2, 'b': 52, 'c': 123},\n",
              " {'a': 5, 'b': 52, 'c': 321},\n",
              " {'a': 4, 'b': 52, 'c': 456},\n",
              " {'a': 1, 'b': 52, 'c': 513},\n",
              " {'a': 3, 'b': 52, 'c': 999}]"
            ]
          },
          "metadata": {},
          "execution_count": 36
        }
      ],
      "metadata": {
        "id": "tbD9BaI5sdFW"
      }
    },
    {
      "cell_type": "markdown",
      "source": [
        "### Problem 8\n",
        "\n",
        "Write a function `p8` that takes in a sequence of dictionaries and returns its contents in a list sorted by the \"score\" key.\n"
      ],
      "metadata": {
        "id": "ztO3mVOfksGg"
      }
    },
    {
      "cell_type": "code",
      "execution_count": 37,
      "source": [
        "# YOUR CHANGES HERE\n",
        "\n",
        "def p8(seq):\n",
        "    return sorted(seq, key=lambda item: item[\"score\"])"
      ],
      "outputs": [],
      "metadata": {
        "id": "YEq-hQMUlnLG"
      }
    },
    {
      "cell_type": "markdown",
      "source": [
        "Test your code with the following examples.\n",
        "Feel free to change the inputs to further test your function."
      ],
      "metadata": {
        "id": "y2caKDwasxaH"
      }
    },
    {
      "cell_type": "code",
      "execution_count": 38,
      "source": [
        "p8([])"
      ],
      "outputs": [
        {
          "output_type": "execute_result",
          "data": {
            "text/plain": [
              "[]"
            ]
          },
          "metadata": {},
          "execution_count": 38
        }
      ],
      "metadata": {
        "id": "5nAyUIwsszXs"
      }
    },
    {
      "cell_type": "code",
      "execution_count": 39,
      "source": [
        "p8([{\"score\": 3}, {\"score\": 1}])"
      ],
      "outputs": [
        {
          "output_type": "execute_result",
          "data": {
            "text/plain": [
              "[{'score': 1}, {'score': 3}]"
            ]
          },
          "metadata": {},
          "execution_count": 39
        }
      ],
      "metadata": {
        "id": "dR_hzfBas03e"
      }
    },
    {
      "cell_type": "code",
      "execution_count": 40,
      "source": [
        "# this input sequence is a tuple, so it does not have a sort method.\n",
        "\n",
        "p8_tuple_example = ({\"score\": 5}, {\"score\": 6}, {\"score\": 3})\n",
        "\n",
        "p8(p8_tuple_example)"
      ],
      "outputs": [
        {
          "output_type": "execute_result",
          "data": {
            "text/plain": [
              "[{'score': 3}, {'score': 5}, {'score': 6}]"
            ]
          },
          "metadata": {},
          "execution_count": 40
        }
      ],
      "metadata": {
        "id": "jxiZMLsqs7X5"
      }
    },
    {
      "cell_type": "markdown",
      "source": [
        "### Problem 9\n",
        "\n",
        "Write a function `p9` that takes in a list of dictionaries, and returns a list of the five dictionaries with the highest \"score\" key.\n",
        "If there are fewer than five dictionaries in the list, return a list with all of them.\n",
        "The list should be sorted with the highest scores first.\n"
      ],
      "metadata": {
        "id": "GbYL7RlmDdgw"
      }
    },
    {
      "cell_type": "code",
      "execution_count": 91,
      "source": [
        "# YOUR CHANGES HERE\n",
        "\n",
        "def p9(dictionaries):\n",
        "    dicts_sorted = sorted(dictionaries, key=lambda item: item[\"score\"], reverse=True)\n",
        "    if len(dictionaries) < 5:\n",
        "        return dicts_sorted\n",
        "    return dicts_sorted[:5]"
      ],
      "outputs": [],
      "metadata": {
        "id": "LCatOFAUDkhC"
      }
    },
    {
      "cell_type": "markdown",
      "source": [
        "Test your code with the following examples.\n",
        "Feel free to change the inputs to further test your function."
      ],
      "metadata": {
        "id": "K_xeypNTtpda"
      }
    },
    {
      "cell_type": "code",
      "execution_count": 42,
      "source": [
        "p9_example_input = [{\"score\": i} for i in range(10)]\n",
        "p9_example_input"
      ],
      "outputs": [
        {
          "output_type": "execute_result",
          "data": {
            "text/plain": [
              "[{'score': 0},\n",
              " {'score': 1},\n",
              " {'score': 2},\n",
              " {'score': 3},\n",
              " {'score': 4},\n",
              " {'score': 5},\n",
              " {'score': 6},\n",
              " {'score': 7},\n",
              " {'score': 8},\n",
              " {'score': 9}]"
            ]
          },
          "metadata": {},
          "execution_count": 42
        }
      ],
      "metadata": {
        "id": "RQwDteRUuPtE"
      }
    },
    {
      "cell_type": "code",
      "execution_count": 92,
      "source": [
        "p9(p9_example_input)"
      ],
      "outputs": [
        {
          "output_type": "execute_result",
          "data": {
            "text/plain": [
              "[{'score': 9}, {'score': 8}, {'score': 7}, {'score': 6}, {'score': 5}]"
            ]
          },
          "metadata": {},
          "execution_count": 92
        }
      ],
      "metadata": {
        "id": "J6JWdCbpuie5"
      }
    },
    {
      "cell_type": "markdown",
      "source": [
        "### Problem 10\n",
        "\n",
        "Write a function `p10` that takes in a list of dictionaries and a score function, and returns the dictionary with the highest output when passed to the score function."
      ],
      "metadata": {
        "id": "DU19eU4CDsfl"
      }
    },
    {
      "cell_type": "code",
      "execution_count": 93,
      "source": [
        "# YOUR CHANGES HERE\n",
        "\n",
        "def p10(dictionaries, score_function):\n",
        "    return sorted(dictionaries, key=score_function, reverse=True)[0]"
      ],
      "outputs": [],
      "metadata": {
        "id": "XpxH3dGWDux_"
      }
    },
    {
      "cell_type": "markdown",
      "source": [
        "Test your code with the following examples.\n",
        "Feel free to change the inputs to further test your function."
      ],
      "metadata": {
        "id": "HW4vggmXuw1v"
      }
    },
    {
      "cell_type": "code",
      "execution_count": 94,
      "source": [
        "p10([{\"score\": 3}, {\"score\": 5}], lambda r: r[\"score\"])"
      ],
      "outputs": [
        {
          "output_type": "execute_result",
          "data": {
            "text/plain": [
              "{'score': 5}"
            ]
          },
          "metadata": {},
          "execution_count": 94
        }
      ],
      "metadata": {
        "id": "u_ZFPFEJ4AU1"
      }
    },
    {
      "cell_type": "code",
      "execution_count": 95,
      "source": [
        "# note this sorts by negative \"a\"\n",
        "p10([{\"a\": 5}, {\"a\": 3}], lambda r: -r[\"a\"])"
      ],
      "outputs": [
        {
          "output_type": "execute_result",
          "data": {
            "text/plain": [
              "{'a': 3}"
            ]
          },
          "metadata": {},
          "execution_count": 95
        }
      ],
      "metadata": {
        "id": "eJYKi6QE4HkR"
      }
    },
    {
      "cell_type": "markdown",
      "source": [
        "### Problem 11\n",
        "\n",
        "Write a function `p11` implementing the factorial function using `range()` and `math.prod`.\n",
        "Do not use `math.factorial` for this problem.\n"
      ],
      "metadata": {
        "id": "6BrPZnxLD0Oe"
      }
    },
    {
      "cell_type": "code",
      "execution_count": 51,
      "source": [
        "# DO NOT CHANGE\n",
        "\n",
        "import math"
      ],
      "outputs": [],
      "metadata": {}
    },
    {
      "cell_type": "code",
      "execution_count": 56,
      "source": [
        "# YOUR CHANGES HERE\n",
        "\n",
        "def p11(n):\n",
        "    lst = [i for i in range(1, n+1)]\n",
        "    return math.prod(lst)"
      ],
      "outputs": [],
      "metadata": {
        "id": "xfw7S3gnEDg-"
      }
    },
    {
      "cell_type": "code",
      "execution_count": 57,
      "source": [
        "p11(5)"
      ],
      "outputs": [
        {
          "output_type": "execute_result",
          "data": {
            "text/plain": [
              "120"
            ]
          },
          "metadata": {},
          "execution_count": 57
        }
      ],
      "metadata": {}
    },
    {
      "cell_type": "markdown",
      "source": [
        "### Problem 12\n",
        "\n",
        "Write a function `p12` taking in a sequence of dictionaries and a column name (dictionary key), and returns the set of distinct values in that column (values for that dictionary key)."
      ],
      "metadata": {
        "id": "WUeDRHz1EI36"
      }
    },
    {
      "cell_type": "code",
      "execution_count": 58,
      "source": [
        "# YOUR CHANGES HERE\n",
        "\n",
        "def p12(dictionaries, key):\n",
        "    # iterate over dicts, attempt to grab the value at the key, if it exist append to the set\n",
        "    result = set()\n",
        "    for d in dictionaries:\n",
        "        if d.get(key):\n",
        "            result.add(d.get(key))\n",
        "    return result"
      ],
      "outputs": [],
      "metadata": {
        "id": "Msv-S8sqEWQn"
      }
    },
    {
      "cell_type": "code",
      "execution_count": 59,
      "source": [
        "p12([\n",
        "    {\"bleh\": 123, \"score\": 12},\n",
        "    {\"bleh\": 123, \"score\": 15},\n",
        "    {\"bleh\": 123},\n",
        "], \"score\")"
      ],
      "outputs": [
        {
          "output_type": "execute_result",
          "data": {
            "text/plain": [
              "{12, 15}"
            ]
          },
          "metadata": {},
          "execution_count": 59
        }
      ],
      "metadata": {}
    },
    {
      "cell_type": "markdown",
      "source": [
        "### Problem 13\n",
        "\n",
        "Write a function `p13` taking in a sequence of dictionaries and a column name (dictionary key), and returns the first dictionary in the sequence where that column is an empty string or `None`.\n",
        "If no such dictionary is in the sequence, return `None`.\n",
        "\n",
        "This function is essentially looking for the first row with missing data for that column.\n"
      ],
      "metadata": {
        "id": "_9fnH8_oEdbO"
      }
    },
    {
      "cell_type": "code",
      "execution_count": 60,
      "source": [
        "# YOUR CHANGES HERE\n",
        "\n",
        "def p13(dictionaries, key):\n",
        "    for d in dictionaries:\n",
        "        if not d.get(key) or d.get(key) == \"\":\n",
        "            return d\n",
        "    return None"
      ],
      "outputs": [],
      "metadata": {
        "id": "yc26DedyE2JT"
      }
    },
    {
      "cell_type": "code",
      "execution_count": 65,
      "source": [
        "p13(\n",
        "    [\n",
        "        {\"score\": \"test\"},\n",
        "        {\"score\": None}\n",
        "    ],\n",
        "    \"score\"\n",
        ")"
      ],
      "outputs": [
        {
          "output_type": "execute_result",
          "data": {
            "text/plain": [
              "{'score': None}"
            ]
          },
          "metadata": {},
          "execution_count": 65
        }
      ],
      "metadata": {}
    },
    {
      "cell_type": "markdown",
      "source": [
        "### Problem 14\n",
        "\n",
        "In the following code, what value is printed out?\n",
        "Set `p14` to that value.\n",
        "\n",
        "```\n",
        "def f(x):\n",
        "    x = x * 3\n",
        "    return x\n",
        "\n",
        "def g(y):\n",
        "    f(y)\n",
        "    return y\n",
        "\n",
        "x = 4\n",
        "f(x)\n",
        "g(x)\n",
        "print(x)\n",
        "```\n"
      ],
      "metadata": {
        "id": "UfE3-jyH4b0c"
      }
    },
    {
      "cell_type": "code",
      "execution_count": null,
      "source": [
        "# YOUR CHANGES HERE\n",
        "\n",
        "p14 = 4"
      ],
      "outputs": [],
      "metadata": {
        "id": "9mv3iK4NFL_d"
      }
    },
    {
      "cell_type": "markdown",
      "source": [
        "### Problem 15\n",
        "\n",
        "In the following code, what value is printed out?\n",
        "Set `p15` to that value.\n",
        "\n",
        "```\n",
        "def f(x):\n",
        "    def g(y):\n",
        "        def h(x):\n",
        "            return x + y\n",
        "\n",
        "        return h(x)\n",
        "\n",
        "    x = g(2)\n",
        "    return g(3)\n",
        "\n",
        "print(f(5))\n",
        "```\n"
      ],
      "metadata": {
        "id": "zhBJbwqEFO2G"
      }
    },
    {
      "cell_type": "code",
      "execution_count": null,
      "source": [
        "# YOUR CHANGES HERE\n",
        "\n",
        "p15 = 10"
      ],
      "outputs": [],
      "metadata": {
        "id": "C9QHxIqiGHzX"
      }
    },
    {
      "cell_type": "markdown",
      "source": [
        "### Problem 16\n",
        "\n",
        "Set `p16` to the number of lines printed out by the following code.\n",
        "Try to answer this without actually running the code.\n",
        "\n",
        "```\n",
        "d = {\"a\": \"b\", \"c\": 3, \"d\": 3}\n",
        "for k in d:\n",
        "    print(k, d[k])\n",
        "```"
      ],
      "metadata": {
        "id": "bGZiPZazGI7u"
      }
    },
    {
      "cell_type": "code",
      "execution_count": 70,
      "source": [
        "# YOUR CHANGES HERE\n",
        "\n",
        "p16 = 3"
      ],
      "outputs": [],
      "metadata": {
        "id": "u1gwOF_uGL_2"
      }
    },
    {
      "cell_type": "markdown",
      "source": [
        "### Problem 17\n",
        "\n",
        "Set `p17` to the number of entries in the following set.\n",
        "Try to answer this without running any code.\n",
        "\n",
        "```\n",
        "{1, 1, 2, 2, 3, 3, 3, 3, 3, 4, 4, 4, 5}\n",
        "```"
      ],
      "metadata": {
        "id": "fCMgnJgoGMwV"
      }
    },
    {
      "cell_type": "code",
      "execution_count": null,
      "source": [
        "# YOUR CHANGES HERE\n",
        "\n",
        "p17 = 5"
      ],
      "outputs": [],
      "metadata": {
        "id": "Z_jb-O9nGOJo"
      }
    },
    {
      "cell_type": "markdown",
      "source": [
        "### Problem 18\n",
        "\n",
        "Write a function `p18` that takes in a list as input, and returns `True` if the length of the list is at least 18, and `False` otherwise."
      ],
      "metadata": {
        "id": "hQHBExBMGOxw"
      }
    },
    {
      "cell_type": "code",
      "execution_count": 71,
      "source": [
        "# YOUR CHANGES HERE\n",
        "\n",
        "def p18(lst):\n",
        "    return len(lst) >= 18"
      ],
      "outputs": [],
      "metadata": {
        "id": "QrC_w0YGGQRZ"
      }
    },
    {
      "cell_type": "markdown",
      "source": [
        "### Problem 19\n",
        "\n",
        "Write a function `p19` that takes in a list as input and returns `True` if all the entries in the list are numbers between 0.5 and 0.75 and `False` otherwise."
      ],
      "metadata": {
        "id": "tdB9pO8MGRSa"
      }
    },
    {
      "cell_type": "code",
      "execution_count": 78,
      "source": [
        "# YOUR CHANGES HERE\n",
        "\n",
        "def p19(lst):\n",
        "    for i in lst:\n",
        "        if not (0.5 <= i <= 0.75):\n",
        "            return False\n",
        "    return True"
      ],
      "outputs": [],
      "metadata": {
        "id": "aQ7IcY3VGTac"
      }
    },
    {
      "cell_type": "code",
      "execution_count": 79,
      "source": [
        "p19([0.5, 0.6])"
      ],
      "outputs": [
        {
          "output_type": "execute_result",
          "data": {
            "text/plain": [
              "True"
            ]
          },
          "metadata": {},
          "execution_count": 79
        }
      ],
      "metadata": {}
    },
    {
      "cell_type": "markdown",
      "source": [
        "### Problem 20\n",
        "\n",
        "Set `p20` to the value of the variable `x` after the following code is run.\n",
        "Try to figure this out without running the code.\n",
        "\n",
        "```\n",
        "x = 7\n",
        "y = 4\n",
        "for z in range(y):\n",
        "    if z:\n",
        "        x = x * z\n",
        "```"
      ],
      "metadata": {
        "id": "yThSeipVGUSy"
      }
    },
    {
      "cell_type": "code",
      "execution_count": 80,
      "source": [
        "# YOUR CHANGES HERE\n",
        "\n",
        "p20 = 7 * 2 * 3"
      ],
      "outputs": [],
      "metadata": {
        "id": "vHmndpn0GWed"
      }
    },
    {
      "cell_type": "code",
      "execution_count": 81,
      "source": [
        "p20"
      ],
      "outputs": [
        {
          "output_type": "execute_result",
          "data": {
            "text/plain": [
              "42"
            ]
          },
          "metadata": {},
          "execution_count": 81
        }
      ],
      "metadata": {}
    }
  ],
  "metadata": {
    "colab": {
      "toc_visible": false
    },
    "kernelspec": {
      "name": "python3",
      "display_name": "Python 3.13.7 64-bit ('test_env': conda)"
    },
    "language_info": {
      "name": "python",
      "version": "3.13.5",
      "mimetype": "text/x-python",
      "codemirror_mode": {
        "name": "ipython",
        "version": 3
      },
      "pygments_lexer": "ipython3",
      "nbconvert_exporter": "python",
      "file_extension": ".py"
    },
    "interpreter": {
      "hash": "cb23f857d3c7f0ee2d2845c75d7b24082b558c492a726c87849400f4f24ab23a"
    }
  },
  "nbformat": 4,
  "nbformat_minor": 2
}